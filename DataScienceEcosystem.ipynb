{
 "cells": [
  {
   "cell_type": "markdown",
   "id": "6ac43111-a91a-4f91-8167-9fed6e65e23c",
   "metadata": {},
   "source": [
    "# Data Science Tools and Ecosystem"
   ]
  },
  {
   "cell_type": "markdown",
   "id": "c91fcc28-9856-4b75-bbb3-2eecc0af733a",
   "metadata": {},
   "source": [
    "In this notebook, Data Science Tools and Ecosystem are summarized"
   ]
  },
  {
   "cell_type": "markdown",
   "id": "85445b4b-413e-4329-a08e-23b8237b9ce2",
   "metadata": {},
   "source": [
    "**Objectives:**\n",
    "- List popular languages for Data Science\n",
    "- List commonly used libraries for Data Science\n",
    "- List common development environment open source tools for Data Science\n",
    "- Show examples of evaluatinf arithmetic expressions in Python"
   ]
  },
  {
   "cell_type": "markdown",
   "id": "19c4574c-8bb1-4db7-ac5f-0d30788e1749",
   "metadata": {},
   "source": [
    "Some of the popular languages that Data Scientists use are: \n",
    "1. Python\n",
    "2. R\n",
    "3. SQL"
   ]
  },
  {
   "cell_type": "markdown",
   "id": "8eda927a-efae-4fd0-89f9-bb9bbc3b7cfe",
   "metadata": {},
   "source": [
    "Some of the commonly used libraries used by Data Scientists include:\n",
    "1. Pandas\n",
    "2. NumPy\n",
    "3. Matplotlib"
   ]
  },
  {
   "cell_type": "markdown",
   "id": "462c7bdd-3eee-4623-976e-4250a9cd81d9",
   "metadata": {},
   "source": [
    "| Data Science Tools |\n",
    "|--------------------|\n",
    "|      Spyder        |\n",
    "|      Jupyter       |\n",
    "|      R Studio      |"
   ]
  },
  {
   "cell_type": "markdown",
   "id": "d74444b0-b3ff-42eb-8391-3d5897de2042",
   "metadata": {},
   "source": [
    "### Below are a few examples of evaluating arithmetic expressions in Python"
   ]
  },
  {
   "cell_type": "code",
   "execution_count": 18,
   "id": "edfd13c9-934f-4003-bbd2-3eb685837179",
   "metadata": {},
   "outputs": [
    {
     "data": {
      "text/plain": [
       "17"
      ]
     },
     "execution_count": 18,
     "metadata": {},
     "output_type": "execute_result"
    }
   ],
   "source": [
    "#This is a simple arithmetic expression to multiply then add integers\n",
    "\n",
    "(3*4)+5"
   ]
  },
  {
   "cell_type": "code",
   "execution_count": 20,
   "id": "8d2fef08-0d5f-45dc-9e87-34fda8e29b35",
   "metadata": {},
   "outputs": [
    {
     "data": {
      "text/plain": [
       "3.3333333333333335"
      ]
     },
     "execution_count": 20,
     "metadata": {},
     "output_type": "execute_result"
    }
   ],
   "source": [
    "#This will convert 200 minutes to hours by dividing by 60\n",
    "\n",
    "200/60"
   ]
  },
  {
   "cell_type": "markdown",
   "id": "dbda6151-8b21-4782-8ca8-5f43426cefce",
   "metadata": {},
   "source": [
    "## Author\n",
    "Terri Ann"
   ]
  },
  {
   "cell_type": "code",
   "execution_count": null,
   "id": "59b544f3-3349-41fe-a300-83bff70619a2",
   "metadata": {},
   "outputs": [],
   "source": []
  }
 ],
 "metadata": {
  "kernelspec": {
   "display_name": "Python 3 (ipykernel)",
   "language": "python",
   "name": "python3"
  },
  "language_info": {
   "codemirror_mode": {
    "name": "ipython",
    "version": 3
   },
   "file_extension": ".py",
   "mimetype": "text/x-python",
   "name": "python",
   "nbconvert_exporter": "python",
   "pygments_lexer": "ipython3",
   "version": "3.11.7"
  }
 },
 "nbformat": 4,
 "nbformat_minor": 5
}
